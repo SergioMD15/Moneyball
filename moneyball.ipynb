{
 "cells": [
  {
   "cell_type": "code",
   "execution_count": 1,
   "metadata": {},
   "outputs": [
    {
     "name": "stderr",
     "output_type": "stream",
     "text": [
      "/home/sergio/anaconda3/lib/python3.6/site-packages/plotly/graph_objs/_deprecations.py:558: DeprecationWarning:\n",
      "\n",
      "plotly.graph_objs.YAxis is deprecated.\n",
      "Please replace it with one of the following more specific types\n",
      "  - plotly.graph_objs.layout.YAxis\n",
      "  - plotly.graph_objs.layout.scene.YAxis\n",
      "\n",
      "\n",
      "/home/sergio/anaconda3/lib/python3.6/site-packages/plotly/graph_objs/_deprecations.py:531: DeprecationWarning:\n",
      "\n",
      "plotly.graph_objs.XAxis is deprecated.\n",
      "Please replace it with one of the following more specific types\n",
      "  - plotly.graph_objs.layout.XAxis\n",
      "  - plotly.graph_objs.layout.scene.XAxis\n",
      "\n",
      "\n"
     ]
    }
   ],
   "source": [
    "import matplotlib.pyplot as plt\n",
    "import numpy as np\n",
    "import pandas as pd\n",
    "import re\n",
    "import plotly.plotly as py\n",
    "import plotly.graph_objs as go\n",
    "import cufflinks as cf\n",
    "%matplotlib inline"
   ]
  },
  {
   "cell_type": "code",
   "execution_count": 2,
   "metadata": {},
   "outputs": [],
   "source": [
    "master = pd.read_csv('data/Master.csv', parse_dates=['debut', 'finalGame'])\n",
    "# Currently not caring about pitchers"
   ]
  },
  {
   "cell_type": "code",
   "execution_count": 3,
   "metadata": {},
   "outputs": [],
   "source": [
    "bbmaster = master[['playerID', 'nameFirst', 'nameLast', 'nameGiven']]"
   ]
  },
  {
   "cell_type": "code",
   "execution_count": 4,
   "metadata": {},
   "outputs": [],
   "source": [
    "batting = pd.read_csv('data/Batting.csv')"
   ]
  },
  {
   "cell_type": "code",
   "execution_count": 5,
   "metadata": {},
   "outputs": [],
   "source": [
    "batting['TB'] = batting['H'] + 2 * batting['2B'] + 3 * batting['3B'] + 4 * batting['HR']\n",
    "batting['SLG'] = batting['TB'] / batting['AB']"
   ]
  },
  {
   "cell_type": "code",
   "execution_count": 6,
   "metadata": {},
   "outputs": [],
   "source": [
    "master_batting = pd.merge(master, batting)"
   ]
  },
  {
   "cell_type": "code",
   "execution_count": 7,
   "metadata": {},
   "outputs": [],
   "source": [
    "bats = batting[['playerID', 'yearID','AB', 'H', 'BB', 'HBP', 'SF']]\n",
    "bbdata2 = pd.merge(bbmaster, master_batting)"
   ]
  },
  {
   "cell_type": "code",
   "execution_count": 8,
   "metadata": {},
   "outputs": [],
   "source": [
    "salaries = pd.read_csv('data/Salaries.csv')"
   ]
  },
  {
   "cell_type": "code",
   "execution_count": 9,
   "metadata": {},
   "outputs": [],
   "source": [
    "salaries = salaries[['yearID', 'playerID', 'salary']]"
   ]
  },
  {
   "cell_type": "code",
   "execution_count": 10,
   "metadata": {},
   "outputs": [],
   "source": [
    "bbdata_sal = pd.merge(bbdata2, salaries)"
   ]
  },
  {
   "cell_type": "code",
   "execution_count": 11,
   "metadata": {},
   "outputs": [],
   "source": [
    "# Drop all AB values of 0 or null (average at-bats in MLB is 30/year)\n",
    "bbdata_sal = bbdata_sal.drop(bbdata_sal.index[(bbdata_sal['AB'] < 15) | \\\n",
    "                                              (bbdata_sal['H']  < 1) | \\\n",
    "                                              (pd.isnull(bbdata_sal['AB']))])"
   ]
  },
  {
   "cell_type": "code",
   "execution_count": 12,
   "metadata": {},
   "outputs": [],
   "source": [
    "bbdata_sal['OBP'] = bbdata_sal.apply(lambda row: (row['H'] + row['BB'] + row['HBP']) * 100 / \\\n",
    "                                     (row['AB'] + row['BB'] + row['HBP'] + row['SF']), axis=1)"
   ]
  },
  {
   "cell_type": "code",
   "execution_count": 13,
   "metadata": {},
   "outputs": [
    {
     "data": {
      "text/html": [
       "<div>\n",
       "<style scoped>\n",
       "    .dataframe tbody tr th:only-of-type {\n",
       "        vertical-align: middle;\n",
       "    }\n",
       "\n",
       "    .dataframe tbody tr th {\n",
       "        vertical-align: top;\n",
       "    }\n",
       "\n",
       "    .dataframe thead th {\n",
       "        text-align: right;\n",
       "    }\n",
       "</style>\n",
       "<table border=\"1\" class=\"dataframe\">\n",
       "  <thead>\n",
       "    <tr style=\"text-align: right;\">\n",
       "      <th></th>\n",
       "      <th>playerID</th>\n",
       "      <th>nameFirst</th>\n",
       "      <th>nameLast</th>\n",
       "      <th>nameGiven</th>\n",
       "      <th>birthYear</th>\n",
       "      <th>birthMonth</th>\n",
       "      <th>birthDay</th>\n",
       "      <th>birthCountry</th>\n",
       "      <th>birthState</th>\n",
       "      <th>birthCity</th>\n",
       "      <th>...</th>\n",
       "      <th>SO</th>\n",
       "      <th>IBB</th>\n",
       "      <th>HBP</th>\n",
       "      <th>SH</th>\n",
       "      <th>SF</th>\n",
       "      <th>GIDP</th>\n",
       "      <th>TB</th>\n",
       "      <th>SLG</th>\n",
       "      <th>salary</th>\n",
       "      <th>OBP</th>\n",
       "    </tr>\n",
       "  </thead>\n",
       "  <tbody>\n",
       "    <tr>\n",
       "      <th>2518</th>\n",
       "      <td>bondsba01</td>\n",
       "      <td>Barry</td>\n",
       "      <td>Bonds</td>\n",
       "      <td>Barry Lamar</td>\n",
       "      <td>1964.0</td>\n",
       "      <td>7.0</td>\n",
       "      <td>24.0</td>\n",
       "      <td>USA</td>\n",
       "      <td>CA</td>\n",
       "      <td>Riverside</td>\n",
       "      <td>...</td>\n",
       "      <td>41.0</td>\n",
       "      <td>120.0</td>\n",
       "      <td>9.0</td>\n",
       "      <td>0.0</td>\n",
       "      <td>3.0</td>\n",
       "      <td>5.0</td>\n",
       "      <td>378</td>\n",
       "      <td>1.013405</td>\n",
       "      <td>18000000</td>\n",
       "      <td>60.940032</td>\n",
       "    </tr>\n",
       "    <tr>\n",
       "      <th>2516</th>\n",
       "      <td>bondsba01</td>\n",
       "      <td>Barry</td>\n",
       "      <td>Bonds</td>\n",
       "      <td>Barry Lamar</td>\n",
       "      <td>1964.0</td>\n",
       "      <td>7.0</td>\n",
       "      <td>24.0</td>\n",
       "      <td>USA</td>\n",
       "      <td>CA</td>\n",
       "      <td>Riverside</td>\n",
       "      <td>...</td>\n",
       "      <td>47.0</td>\n",
       "      <td>68.0</td>\n",
       "      <td>9.0</td>\n",
       "      <td>0.0</td>\n",
       "      <td>2.0</td>\n",
       "      <td>4.0</td>\n",
       "      <td>401</td>\n",
       "      <td>0.995037</td>\n",
       "      <td>15000000</td>\n",
       "      <td>58.169935</td>\n",
       "    </tr>\n",
       "  </tbody>\n",
       "</table>\n",
       "<p>2 rows × 49 columns</p>\n",
       "</div>"
      ],
      "text/plain": [
       "       playerID nameFirst nameLast    nameGiven  birthYear  birthMonth  \\\n",
       "2518  bondsba01     Barry    Bonds  Barry Lamar     1964.0         7.0   \n",
       "2516  bondsba01     Barry    Bonds  Barry Lamar     1964.0         7.0   \n",
       "\n",
       "      birthDay birthCountry birthState  birthCity  ...    SO    IBB  HBP   SH  \\\n",
       "2518      24.0          USA         CA  Riverside  ...  41.0  120.0  9.0  0.0   \n",
       "2516      24.0          USA         CA  Riverside  ...  47.0   68.0  9.0  0.0   \n",
       "\n",
       "       SF GIDP   TB       SLG    salary        OBP  \n",
       "2518  3.0  5.0  378  1.013405  18000000  60.940032  \n",
       "2516  2.0  4.0  401  0.995037  15000000  58.169935  \n",
       "\n",
       "[2 rows x 49 columns]"
      ]
     },
     "execution_count": 13,
     "metadata": {},
     "output_type": "execute_result"
    }
   ],
   "source": [
    "bbdata_sal.sort_values(by=['OBP'], ascending=False).head(2)"
   ]
  },
  {
   "cell_type": "code",
   "execution_count": 14,
   "metadata": {},
   "outputs": [],
   "source": [
    "bbdata_sal = bbdata_sal.drop(bbdata_sal.index[bbdata_sal['salary'] <= 0])\n",
    "pass"
   ]
  },
  {
   "cell_type": "code",
   "execution_count": 15,
   "metadata": {},
   "outputs": [
    {
     "data": {
      "text/html": [
       "<div>\n",
       "<style scoped>\n",
       "    .dataframe tbody tr th:only-of-type {\n",
       "        vertical-align: middle;\n",
       "    }\n",
       "\n",
       "    .dataframe tbody tr th {\n",
       "        vertical-align: top;\n",
       "    }\n",
       "\n",
       "    .dataframe thead th {\n",
       "        text-align: right;\n",
       "    }\n",
       "</style>\n",
       "<table border=\"1\" class=\"dataframe\">\n",
       "  <thead>\n",
       "    <tr style=\"text-align: right;\">\n",
       "      <th></th>\n",
       "      <th>playerID</th>\n",
       "      <th>nameFirst</th>\n",
       "      <th>nameLast</th>\n",
       "      <th>nameGiven</th>\n",
       "      <th>birthYear</th>\n",
       "      <th>birthMonth</th>\n",
       "      <th>birthDay</th>\n",
       "      <th>birthCountry</th>\n",
       "      <th>birthState</th>\n",
       "      <th>birthCity</th>\n",
       "      <th>...</th>\n",
       "      <th>IBB</th>\n",
       "      <th>HBP</th>\n",
       "      <th>SH</th>\n",
       "      <th>SF</th>\n",
       "      <th>GIDP</th>\n",
       "      <th>TB</th>\n",
       "      <th>SLG</th>\n",
       "      <th>salary</th>\n",
       "      <th>OBP</th>\n",
       "      <th>OBP_sal_10k</th>\n",
       "    </tr>\n",
       "  </thead>\n",
       "  <tbody>\n",
       "    <tr>\n",
       "      <th>23508</th>\n",
       "      <td>silveda01</td>\n",
       "      <td>Dave</td>\n",
       "      <td>Silvestri</td>\n",
       "      <td>David Joseph</td>\n",
       "      <td>1967.0</td>\n",
       "      <td>9.0</td>\n",
       "      <td>29.0</td>\n",
       "      <td>USA</td>\n",
       "      <td>MO</td>\n",
       "      <td>St. Louis</td>\n",
       "      <td>...</td>\n",
       "      <td>0.0</td>\n",
       "      <td>0.0</td>\n",
       "      <td>0.0</td>\n",
       "      <td>0.0</td>\n",
       "      <td>1.0</td>\n",
       "      <td>12</td>\n",
       "      <td>0.571429</td>\n",
       "      <td>10900</td>\n",
       "      <td>42.307692</td>\n",
       "      <td>38.814397</td>\n",
       "    </tr>\n",
       "    <tr>\n",
       "      <th>8849</th>\n",
       "      <td>gibbojo02</td>\n",
       "      <td>John</td>\n",
       "      <td>Gibbons</td>\n",
       "      <td>John Michael</td>\n",
       "      <td>1962.0</td>\n",
       "      <td>6.0</td>\n",
       "      <td>8.0</td>\n",
       "      <td>USA</td>\n",
       "      <td>MT</td>\n",
       "      <td>Great Falls</td>\n",
       "      <td>...</td>\n",
       "      <td>1.0</td>\n",
       "      <td>0.0</td>\n",
       "      <td>0.0</td>\n",
       "      <td>0.0</td>\n",
       "      <td>1.0</td>\n",
       "      <td>21</td>\n",
       "      <td>1.105263</td>\n",
       "      <td>65000</td>\n",
       "      <td>54.545455</td>\n",
       "      <td>8.391608</td>\n",
       "    </tr>\n",
       "  </tbody>\n",
       "</table>\n",
       "<p>2 rows × 50 columns</p>\n",
       "</div>"
      ],
      "text/plain": [
       "        playerID nameFirst   nameLast     nameGiven  birthYear  birthMonth  \\\n",
       "23508  silveda01      Dave  Silvestri  David Joseph     1967.0         9.0   \n",
       "8849   gibbojo02      John    Gibbons  John Michael     1962.0         6.0   \n",
       "\n",
       "       birthDay birthCountry birthState    birthCity  ...  IBB  HBP   SH   SF  \\\n",
       "23508      29.0          USA         MO    St. Louis  ...  0.0  0.0  0.0  0.0   \n",
       "8849        8.0          USA         MT  Great Falls  ...  1.0  0.0  0.0  0.0   \n",
       "\n",
       "      GIDP  TB       SLG  salary        OBP OBP_sal_10k  \n",
       "23508  1.0  12  0.571429   10900  42.307692   38.814397  \n",
       "8849   1.0  21  1.105263   65000  54.545455    8.391608  \n",
       "\n",
       "[2 rows x 50 columns]"
      ]
     },
     "execution_count": 15,
     "metadata": {},
     "output_type": "execute_result"
    }
   ],
   "source": [
    "bbdata_sal['OBP_sal_10k'] = bbdata_sal.apply(lambda row: row['OBP'] * 10000 / row['salary'], axis=1)\n",
    "bbdata_sal.sort_values(by=['OBP_sal_10k'], ascending=False).head(2)"
   ]
  },
  {
   "cell_type": "code",
   "execution_count": 16,
   "metadata": {},
   "outputs": [],
   "source": [
    "appearances = pd.read_csv('data/Appearances.csv')"
   ]
  },
  {
   "cell_type": "code",
   "execution_count": 17,
   "metadata": {},
   "outputs": [],
   "source": [
    "appearances.pop('lgID')\n",
    "appearances.pop('teamID')\n",
    "pass"
   ]
  },
  {
   "cell_type": "code",
   "execution_count": 18,
   "metadata": {},
   "outputs": [],
   "source": [
    "mb_data = pd.merge(appearances, bbdata_sal)"
   ]
  },
  {
   "cell_type": "code",
   "execution_count": 19,
   "metadata": {},
   "outputs": [],
   "source": [
    "mb_data['OPS'] = round(mb_data['OBP'] + mb_data['SLG'], 5)\n",
    "mb_data['PQ'] = round(mb_data['OPS'] / mb_data['salary'], 10)"
   ]
  },
  {
   "cell_type": "code",
   "execution_count": 20,
   "metadata": {},
   "outputs": [],
   "source": [
    "def fromYear(data, year):\n",
    "    values = data[['yearID', 'nameLast', 'salary', 'OPS', 'PQ']].sort_values(by = ['PQ'], ascending=False)\n",
    "    return values[values['yearID'] == year]"
   ]
  },
  {
   "cell_type": "code",
   "execution_count": 47,
   "metadata": {},
   "outputs": [],
   "source": [
    "data = fromYear(mb_data, 2002).drop_duplicates()"
   ]
  },
  {
   "cell_type": "code",
   "execution_count": 48,
   "metadata": {},
   "outputs": [],
   "source": [
    "data.sample(50).to_csv('results.csv', index = False)\n",
    "sample = data.sample(30).sort_values(by = ['PQ'], ascending=False)"
   ]
  },
  {
   "cell_type": "code",
   "execution_count": 120,
   "metadata": {},
   "outputs": [
    {
     "data": {
      "image/png": "[encoded data removed]",
      "text/plain": [
       "<matplotlib.figure.Figure at 0x7fa63c978828>"
      ]
     },
     "metadata": {
      "needs_background": "light"
     },
     "output_type": "display_data"
    }
   ],
   "source": [
    "# Axis for the tokens\n",
    "x_axis = np.arange(len(sample['nameLast']))\n",
    "fig = plt.figure(figsize=(8,5))\n",
    "ax = fig.add_subplot(1, 1, 1)\n",
    "\n",
    "ax.set_xlabel('Player name', color='k')\n",
    "ax.set_ylabel('Salaries (EUR million)', color='b')\n",
    "ax.grid(linewidth=0.05)\n",
    "ax.set_xticklabels(sample['nameLast'])\n",
    "ax.set_ylim(0, 15)\n",
    "ax.set_yticks([0, 3, 6, 9, 12, 15])\n",
    "ax.bar(x_axis, sample['salary'] / 10**6, color='b')\n",
    "\n",
    "# Axis for the forwarded bytes\n",
    "ax2 = ax.twinx()                \n",
    "ax2.set_ylabel('OPS', color='r')\n",
    "#ax2.bar(x_axis, sample['salary'])\n",
    "ax2.plot(x_axis, sample['OPS'], 'o', lw=3, color='r')\n",
    "ax2.set_ylim(0, 50)\n",
    "ax2.set_yticks([0, 10, 20, 30, 40, 50])\n",
    "\n",
    "\n",
    "# Plot\n",
    "\n",
    "#plt.tight_layout()\n",
    "plt.savefig('comparison.pdf', format='pdf', dpi=300)"
   ]
  },
  {
   "cell_type": "markdown",
   "metadata": {},
   "source": [
    "# Cost per win"
   ]
  },
  {
   "cell_type": "code",
   "execution_count": 54,
   "metadata": {},
   "outputs": [],
   "source": [
    "ald_teams = ['SFN', 'ANA', 'SLN', 'OAK', 'ATL', 'ARI', 'MIN', 'NYA']\n",
    "year = 2002"
   ]
  },
  {
   "cell_type": "code",
   "execution_count": 55,
   "metadata": {},
   "outputs": [],
   "source": [
    "teams = pd.read_csv('data/Teams.csv')[['yearID', 'name', 'teamID', 'W']]\n",
    "teams_2002 = teams[(teams['yearID'] == year) & (teams['teamID'].isin(ald_teams))]\n",
    "# teams_2002"
   ]
  },
  {
   "cell_type": "code",
   "execution_count": 56,
   "metadata": {},
   "outputs": [],
   "source": [
    "appearances = pd.read_csv('data/Appearances.csv')[['yearID', 'teamID', 'playerID', 'G_all']]\n",
    "appearances_2002 = appearances[appearances['yearID'] == year].drop(axis=1, labels='yearID')\n",
    "teams_appearances_2002 = pd.merge(teams_2002, appearances_2002, on='teamID')\n",
    "# teams_appearances_2002\n",
    "#print(teams_appearances_2002[teams_appearances_2002['name'] == 'Toronto Blue Jays'])"
   ]
  },
  {
   "cell_type": "code",
   "execution_count": 57,
   "metadata": {},
   "outputs": [
    {
     "name": "stdout",
     "output_type": "stream",
     "text": [
      "846\n"
     ]
    }
   ],
   "source": [
    "salaries = pd.read_csv('data/Salaries.csv')[['playerID', 'yearID', 'salary']]\n",
    "salaries_2002 = salaries[salaries['yearID'] == year].drop(axis=1, labels='yearID')\n",
    "print(len(salaries_2002))\n",
    "teams_appearances_salaries_2002 = pd.merge(teams_appearances_2002, salaries_2002, on = 'playerID')\n",
    "\n",
    "# teams_appearances_salaries_2002.sort_values(by=['name'])"
   ]
  },
  {
   "cell_type": "code",
   "execution_count": 69,
   "metadata": {},
   "outputs": [],
   "source": [
    "data_2 = teams_appearances_salaries_2002.drop(axis=1, labels=['yearID', 'G_all', 'playerID'])\n",
    "# data"
   ]
  },
  {
   "cell_type": "code",
   "execution_count": 70,
   "metadata": {},
   "outputs": [],
   "source": [
    "cost = pd.DataFrame({'cost':(data_2.groupby('name').sum()['salary'] / data_2.groupby('name').mean()['W']) / 10**6}).reset_index()"
   ]
  },
  {
   "cell_type": "code",
   "execution_count": 123,
   "metadata": {},
   "outputs": [
    {
     "data": {
      "text/html": [
       "<div>\n",
       "<style scoped>\n",
       "    .dataframe tbody tr th:only-of-type {\n",
       "        vertical-align: middle;\n",
       "    }\n",
       "\n",
       "    .dataframe tbody tr th {\n",
       "        vertical-align: top;\n",
       "    }\n",
       "\n",
       "    .dataframe thead th {\n",
       "        text-align: right;\n",
       "    }\n",
       "</style>\n",
       "<table border=\"1\" class=\"dataframe\">\n",
       "  <thead>\n",
       "    <tr style=\"text-align: right;\">\n",
       "      <th></th>\n",
       "      <th>teamID</th>\n",
       "      <th>name</th>\n",
       "      <th>W</th>\n",
       "    </tr>\n",
       "  </thead>\n",
       "  <tbody>\n",
       "    <tr>\n",
       "      <th>3</th>\n",
       "      <td>MIN</td>\n",
       "      <td>Minnesota Twins</td>\n",
       "      <td>94</td>\n",
       "    </tr>\n",
       "    <tr>\n",
       "      <th>5</th>\n",
       "      <td>OAK</td>\n",
       "      <td>Oakland Athletics</td>\n",
       "      <td>103</td>\n",
       "    </tr>\n",
       "    <tr>\n",
       "      <th>0</th>\n",
       "      <td>ANA</td>\n",
       "      <td>Anaheim Angels</td>\n",
       "      <td>99</td>\n",
       "    </tr>\n",
       "    <tr>\n",
       "      <th>6</th>\n",
       "      <td>SFN</td>\n",
       "      <td>San Francisco Giants</td>\n",
       "      <td>95</td>\n",
       "    </tr>\n",
       "    <tr>\n",
       "      <th>2</th>\n",
       "      <td>ATL</td>\n",
       "      <td>Atlanta Braves</td>\n",
       "      <td>101</td>\n",
       "    </tr>\n",
       "    <tr>\n",
       "      <th>7</th>\n",
       "      <td>SLN</td>\n",
       "      <td>St. Louis Cardinals</td>\n",
       "      <td>97</td>\n",
       "    </tr>\n",
       "    <tr>\n",
       "      <th>1</th>\n",
       "      <td>ARI</td>\n",
       "      <td>Arizona Diamondbacks</td>\n",
       "      <td>98</td>\n",
       "    </tr>\n",
       "    <tr>\n",
       "      <th>4</th>\n",
       "      <td>NYA</td>\n",
       "      <td>New York Yankees</td>\n",
       "      <td>103</td>\n",
       "    </tr>\n",
       "  </tbody>\n",
       "</table>\n",
       "</div>"
      ],
      "text/plain": [
       "  teamID                  name    W\n",
       "3    MIN       Minnesota Twins   94\n",
       "5    OAK     Oakland Athletics  103\n",
       "0    ANA        Anaheim Angels   99\n",
       "6    SFN  San Francisco Giants   95\n",
       "2    ATL        Atlanta Braves  101\n",
       "7    SLN   St. Louis Cardinals   97\n",
       "1    ARI  Arizona Diamondbacks   98\n",
       "4    NYA      New York Yankees  103"
      ]
     },
     "execution_count": 123,
     "metadata": {},
     "output_type": "execute_result"
    }
   ],
   "source": [
    "cost_per_win = data_2.drop(axis=1, labels=['salary']).drop_duplicates().reset_index()\n",
    "result = pd.merge(cost_per_win, cost, on='name').sort_values(by='cost')\n",
    "\n",
    "#result\n",
    "result[['teamID', 'name', 'W']]"
   ]
  },
  {
   "cell_type": "code",
   "execution_count": 113,
   "metadata": {},
   "outputs": [
    {
     "data": {
      "image/png": "[encoded data removed]",
      "text/plain": [
       "<matplotlib.figure.Figure at 0x7fa63c845208>"
      ]
     },
     "metadata": {
      "needs_background": "light"
     },
     "output_type": "display_data"
    }
   ],
   "source": [
    "# Axis for the tokens\n",
    "x_axis = np.arange(len(result['name']))\n",
    "fig = plt.figure()\n",
    "# plt.xticks(rotation=90)\n",
    "ax = fig.add_subplot(1, 1, 1)\n",
    "\n",
    "ax.set_xlabel('Teams', color='k')\n",
    "ax.set_ylabel('Wins ', color='b')\n",
    "ax.grid(linewidth=0.05)\n",
    "ax.set_ylim(50, 160)\n",
    "ax.set_xticks(x_axis)\n",
    "ax.set_xticklabels(result['teamID'])\n",
    "ax.plot(x_axis, result['W'], '-o', color='b')\n",
    "ax.fill_between(x_axis, 0, result['W'], facecolor='blue', alpha=0.25)\n",
    "\n",
    "\n",
    "# Axis for the forwarded bytes\n",
    "ax2 = ax.twinx()                \n",
    "ax2.set_ylabel('Cost per win (EUR million)', color='r')\n",
    "ax2.plot(x_axis, result['cost'], 's', lw=3, color='r')\n",
    "ax2.set_ylim(0.25, 1.8)\n",
    "ax2.set_yticks([0.4, 0.7, 1.0, 1.3, 1.6, 1.9])\n",
    "\n",
    "\n",
    "# Plot\n",
    "\n",
    "# plt.tight_layout()\n",
    "plt.savefig('cost_per_win.pdf', format='pdf', dpi=300)"
   ]
  }
 ],
 "metadata": {
  "kernelspec": {
   "display_name": "Python 3",
   "language": "python",
   "name": "python3"
  },
  "language_info": {
   "codemirror_mode": {
    "name": "ipython",
    "version": 3
   },
   "file_extension": ".py",
   "mimetype": "text/x-python",
   "name": "python",
   "nbconvert_exporter": "python",
   "pygments_lexer": "ipython3",
   "version": "3.6.8"
  }
 },
 "nbformat": 4,
 "nbformat_minor": 1
}
